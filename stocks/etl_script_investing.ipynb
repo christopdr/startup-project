{
 "cells": [
  {
   "cell_type": "code",
   "execution_count": 236,
   "metadata": {},
   "outputs": [],
   "source": [
    "import pandas as pd\n",
    "import datetime as dt\n",
    "import pymongo\n",
    "import re\n",
    "import csv"
   ]
  },
  {
   "cell_type": "code",
   "execution_count": 237,
   "metadata": {},
   "outputs": [
    {
     "data": {
      "text/html": [
       "<div>\n",
       "<style scoped>\n",
       "    .dataframe tbody tr th:only-of-type {\n",
       "        vertical-align: middle;\n",
       "    }\n",
       "\n",
       "    .dataframe tbody tr th {\n",
       "        vertical-align: top;\n",
       "    }\n",
       "\n",
       "    .dataframe thead th {\n",
       "        text-align: right;\n",
       "    }\n",
       "</style>\n",
       "<table border=\"1\" class=\"dataframe\">\n",
       "  <thead>\n",
       "    <tr style=\"text-align: right;\">\n",
       "      <th></th>\n",
       "      <th>Date</th>\n",
       "      <th>Open</th>\n",
       "      <th>High</th>\n",
       "      <th>Low</th>\n",
       "      <th>Price</th>\n",
       "      <th>Vol.</th>\n",
       "      <th>Change %</th>\n",
       "      <th>Exchange</th>\n",
       "      <th>Country</th>\n",
       "      <th>Currency</th>\n",
       "    </tr>\n",
       "  </thead>\n",
       "  <tbody>\n",
       "    <tr>\n",
       "      <th>0</th>\n",
       "      <td>2/21/2018</td>\n",
       "      <td>1485.000000</td>\n",
       "      <td>1503.489990</td>\n",
       "      <td>1478.920044</td>\n",
       "      <td>1482.920044</td>\n",
       "      <td>6304400</td>\n",
       "      <td>0.99%</td>\n",
       "      <td>NASDAQ</td>\n",
       "      <td>USA</td>\n",
       "      <td>USD</td>\n",
       "    </tr>\n",
       "    <tr>\n",
       "      <th>1</th>\n",
       "      <td>2/22/2018</td>\n",
       "      <td>1495.359985</td>\n",
       "      <td>1502.540039</td>\n",
       "      <td>1475.760010</td>\n",
       "      <td>1485.339966</td>\n",
       "      <td>4858100</td>\n",
       "      <td>0.16%</td>\n",
       "      <td>NASDAQ</td>\n",
       "      <td>USA</td>\n",
       "      <td>USD</td>\n",
       "    </tr>\n",
       "    <tr>\n",
       "      <th>2</th>\n",
       "      <td>2/23/2018</td>\n",
       "      <td>1495.339966</td>\n",
       "      <td>1500.000000</td>\n",
       "      <td>1486.500000</td>\n",
       "      <td>1500.000000</td>\n",
       "      <td>4418100</td>\n",
       "      <td>0.99%</td>\n",
       "      <td>NASDAQ</td>\n",
       "      <td>USA</td>\n",
       "      <td>USD</td>\n",
       "    </tr>\n",
       "    <tr>\n",
       "      <th>3</th>\n",
       "      <td>2/26/2018</td>\n",
       "      <td>1509.199951</td>\n",
       "      <td>1522.839966</td>\n",
       "      <td>1507.000000</td>\n",
       "      <td>1521.949951</td>\n",
       "      <td>4955000</td>\n",
       "      <td>1.46%</td>\n",
       "      <td>NASDAQ</td>\n",
       "      <td>USA</td>\n",
       "      <td>USD</td>\n",
       "    </tr>\n",
       "    <tr>\n",
       "      <th>4</th>\n",
       "      <td>2/27/2018</td>\n",
       "      <td>1524.500000</td>\n",
       "      <td>1526.780029</td>\n",
       "      <td>1507.209961</td>\n",
       "      <td>1511.979980</td>\n",
       "      <td>4808800</td>\n",
       "      <td>-0.66%</td>\n",
       "      <td>NASDAQ</td>\n",
       "      <td>USA</td>\n",
       "      <td>USD</td>\n",
       "    </tr>\n",
       "  </tbody>\n",
       "</table>\n",
       "</div>"
      ],
      "text/plain": [
       "        Date         Open         High          Low        Price     Vol.  \\\n",
       "0  2/21/2018  1485.000000  1503.489990  1478.920044  1482.920044  6304400   \n",
       "1  2/22/2018  1495.359985  1502.540039  1475.760010  1485.339966  4858100   \n",
       "2  2/23/2018  1495.339966  1500.000000  1486.500000  1500.000000  4418100   \n",
       "3  2/26/2018  1509.199951  1522.839966  1507.000000  1521.949951  4955000   \n",
       "4  2/27/2018  1524.500000  1526.780029  1507.209961  1511.979980  4808800   \n",
       "\n",
       "  Change % Exchange Country Currency  \n",
       "0    0.99%   NASDAQ     USA      USD  \n",
       "1    0.16%   NASDAQ     USA      USD  \n",
       "2    0.99%   NASDAQ     USA      USD  \n",
       "3    1.46%   NASDAQ     USA      USD  \n",
       "4   -0.66%   NASDAQ     USA      USD  "
      ]
     },
     "execution_count": 237,
     "metadata": {},
     "output_type": "execute_result"
    }
   ],
   "source": [
    "source_data = 'Yahoo Finance'\n",
    "stocks_df = pd.read_csv('AMZN NASDAQ Yahoo Finance.csv')\n",
    "stocks_df.head(5)"
   ]
  },
  {
   "cell_type": "code",
   "execution_count": 238,
   "metadata": {},
   "outputs": [
    {
     "data": {
      "text/plain": [
       "Date         object\n",
       "Open        float64\n",
       "High        float64\n",
       "Low         float64\n",
       "Price       float64\n",
       "Vol.          int64\n",
       "Change %     object\n",
       "Exchange     object\n",
       "Country      object\n",
       "Currency     object\n",
       "dtype: object"
      ]
     },
     "execution_count": 238,
     "metadata": {},
     "output_type": "execute_result"
    }
   ],
   "source": [
    "stocks_df.dtypes\n",
    "\n"
   ]
  },
  {
   "cell_type": "code",
   "execution_count": 240,
   "metadata": {},
   "outputs": [],
   "source": [
    "stocks_df['Date'] = pd.to_datetime(stocks_df['Date'])\n",
    "stocks_df['Price'] = stocks_df['Price'].str.replace(',', '').astype(float)\n",
    "stocks_df['Open'] = stocks_df['Open'].str.replace(',', '').astype(float)\n",
    "stocks_df['High'] = stocks_df['High'].str.replace(',', '').astype(float)\n",
    "stocks_df['Low'] = stocks_df['Low'].str.replace(',', '').astype(float)\n",
    "stocks_df['Change %'] = pd.to_numeric(stocks_df['Change %'].str.replace('%', ''))\n",
    "stocks_df['Exchange'] = stocks_df['Exchange'].apply(str)\n",
    "stocks_df['Country'] = stocks_df['Country'].apply(str)\n",
    "stocks_df['Currency'] = stocks_df['Currency'].apply(str)"
   ]
  },
  {
   "cell_type": "code",
   "execution_count": 229,
   "metadata": {},
   "outputs": [
    {
     "data": {
      "text/plain": [
       "Date        datetime64[ns]\n",
       "Price              float64\n",
       "Open               float64\n",
       "High               float64\n",
       "Low                float64\n",
       "Vol.                object\n",
       "Change %           float64\n",
       "Exchange            object\n",
       "Country             object\n",
       "Currency            object\n",
       "dtype: object"
      ]
     },
     "execution_count": 229,
     "metadata": {},
     "output_type": "execute_result"
    }
   ],
   "source": [
    "stocks_df.dtypes"
   ]
  },
  {
   "cell_type": "code",
   "execution_count": 230,
   "metadata": {},
   "outputs": [],
   "source": [
    "#volume conversion function for K and M \n",
    "def convertVolume(data):\n",
    "    temp = 0\n",
    "    if re.search('M', data):\n",
    "        temp = float(data.replace('M', '')) * 1000000\n",
    "    elif re.search('K', data):\n",
    "        temp = float(data.replace('K', '')) * 1000\n",
    "        \n",
    "    return temp"
   ]
  },
  {
   "cell_type": "code",
   "execution_count": 231,
   "metadata": {},
   "outputs": [],
   "source": [
    "stocks_df['Vol.'] = stocks_df['Vol.'].apply(convertVolume)\n"
   ]
  },
  {
   "cell_type": "code",
   "execution_count": 232,
   "metadata": {},
   "outputs": [
    {
     "data": {
      "text/plain": [
       "0    1412.60\n",
       "1    1430.21\n",
       "2    1415.88\n",
       "3    1418.32\n",
       "4    1425.35\n",
       "Name: Low, dtype: float64"
      ]
     },
     "execution_count": 232,
     "metadata": {},
     "output_type": "execute_result"
    }
   ],
   "source": [
    "stocks_df['Low'].head()\n"
   ]
  },
  {
   "cell_type": "code",
   "execution_count": 233,
   "metadata": {},
   "outputs": [],
   "source": [
    "#insert data to database"
   ]
  },
  {
   "cell_type": "code",
   "execution_count": 234,
   "metadata": {},
   "outputs": [
    {
     "data": {
      "text/plain": [
       "MongoClient(host=['localhost:27017'], document_class=dict, tz_aware=False, connect=True)"
      ]
     },
     "execution_count": 234,
     "metadata": {},
     "output_type": "execute_result"
    }
   ],
   "source": [
    "conn = 'mongodb://localhost:27017'\n",
    "client = pymongo.MongoClient(conn)\n",
    "client"
   ]
  },
  {
   "cell_type": "code",
   "execution_count": 235,
   "metadata": {},
   "outputs": [
    {
     "name": "stdout",
     "output_type": "stream",
     "text": [
      "It's there!\n",
      "Done!\n"
     ]
    }
   ],
   "source": [
    "dbnames = client.list_database_names()\n",
    "if 'Stocks' in dbnames:\n",
    "    print (\"It's there!\")\n",
    "else:\n",
    "    # Define the class for stocks in database Mongo\n",
    "    print('Creating Database')\n",
    "    db = client['Stocks']\n",
    "\n",
    "# Query all students\n",
    "# Here, db.students refers to the collection 'classroom '\n",
    "#historical_data = db.historical_data.find()\n",
    "#print(historical_data)\n",
    "# Iterate through each student in the collection\n",
    "for index, row in stocks_df.iterrows():\n",
    "    db.historical_data.insert_one(\n",
    "    {\n",
    "        'Date': row['Date'],\n",
    "        'Price': row['Price'],\n",
    "        'Open': row['Open'],\n",
    "        'High': row['High'],\n",
    "        'Low': row['Low'],\n",
    "        'Vol': row['Vol.'],\n",
    "        'Change': row['Change %'],\n",
    "        'Exchange': row['Exchange'],\n",
    "        'Country': row['Country'],\n",
    "        'Currency': row['Currency'],\n",
    "        'Source': source_data\n",
    "    }\n",
    ")\n",
    "print('Done!')\n"
   ]
  },
  {
   "cell_type": "code",
   "execution_count": null,
   "metadata": {},
   "outputs": [],
   "source": []
  },
  {
   "cell_type": "code",
   "execution_count": null,
   "metadata": {},
   "outputs": [],
   "source": []
  }
 ],
 "metadata": {
  "kernelspec": {
   "display_name": "Python 3",
   "language": "python",
   "name": "python3"
  },
  "language_info": {
   "codemirror_mode": {
    "name": "ipython",
    "version": 3
   },
   "file_extension": ".py",
   "mimetype": "text/x-python",
   "name": "python",
   "nbconvert_exporter": "python",
   "pygments_lexer": "ipython3",
   "version": "3.6.5"
  }
 },
 "nbformat": 4,
 "nbformat_minor": 2
}
